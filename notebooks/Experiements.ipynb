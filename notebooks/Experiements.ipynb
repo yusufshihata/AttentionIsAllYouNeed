{
 "cells": [
  {
   "cell_type": "code",
   "execution_count": 1,
   "metadata": {
    "colab": {
     "base_uri": "https://localhost:8080/"
    },
    "execution": {
     "iopub.execute_input": "2025-02-20T08:38:10.297289Z",
     "iopub.status.busy": "2025-02-20T08:38:10.297076Z",
     "iopub.status.idle": "2025-02-20T08:38:14.616095Z",
     "shell.execute_reply": "2025-02-20T08:38:14.615161Z",
     "shell.execute_reply.started": "2025-02-20T08:38:10.297268Z"
    },
    "executionInfo": {
     "elapsed": 6352,
     "status": "ok",
     "timestamp": 1739881804580,
     "user": {
      "displayName": "Yusuf Mohamed",
      "userId": "11201528805945830281"
     },
     "user_tz": -120
    },
    "id": "Lf7HxjVOuB7e",
    "outputId": "9f1a3dca-bf5c-4499-8215-233caa661680",
    "trusted": true
   },
   "outputs": [
    {
     "name": "stdout",
     "output_type": "stream",
     "text": [
      "Requirement already satisfied: datasets in /usr/local/lib/python3.10/dist-packages (3.2.0)\n",
      "Requirement already satisfied: filelock in /usr/local/lib/python3.10/dist-packages (from datasets) (3.17.0)\n",
      "Requirement already satisfied: numpy>=1.17 in /usr/local/lib/python3.10/dist-packages (from datasets) (1.26.4)\n",
      "Requirement already satisfied: pyarrow>=15.0.0 in /usr/local/lib/python3.10/dist-packages (from datasets) (19.0.0)\n",
      "Requirement already satisfied: dill<0.3.9,>=0.3.0 in /usr/local/lib/python3.10/dist-packages (from datasets) (0.3.8)\n",
      "Requirement already satisfied: pandas in /usr/local/lib/python3.10/dist-packages (from datasets) (2.2.3)\n",
      "Requirement already satisfied: requests>=2.32.2 in /usr/local/lib/python3.10/dist-packages (from datasets) (2.32.3)\n",
      "Requirement already satisfied: tqdm>=4.66.3 in /usr/local/lib/python3.10/dist-packages (from datasets) (4.67.1)\n",
      "Requirement already satisfied: xxhash in /usr/local/lib/python3.10/dist-packages (from datasets) (3.5.0)\n",
      "Requirement already satisfied: multiprocess<0.70.17 in /usr/local/lib/python3.10/dist-packages (from datasets) (0.70.16)\n",
      "Requirement already satisfied: fsspec<=2024.9.0,>=2023.1.0 in /usr/local/lib/python3.10/dist-packages (from fsspec[http]<=2024.9.0,>=2023.1.0->datasets) (2024.9.0)\n",
      "Requirement already satisfied: aiohttp in /usr/local/lib/python3.10/dist-packages (from datasets) (3.11.11)\n",
      "Requirement already satisfied: huggingface-hub>=0.23.0 in /usr/local/lib/python3.10/dist-packages (from datasets) (0.28.1)\n",
      "Requirement already satisfied: packaging in /usr/local/lib/python3.10/dist-packages (from datasets) (24.2)\n",
      "Requirement already satisfied: pyyaml>=5.1 in /usr/local/lib/python3.10/dist-packages (from datasets) (6.0.2)\n",
      "Requirement already satisfied: aiohappyeyeballs>=2.3.0 in /usr/local/lib/python3.10/dist-packages (from aiohttp->datasets) (2.4.4)\n",
      "Requirement already satisfied: aiosignal>=1.1.2 in /usr/local/lib/python3.10/dist-packages (from aiohttp->datasets) (1.3.2)\n",
      "Requirement already satisfied: async-timeout<6.0,>=4.0 in /usr/local/lib/python3.10/dist-packages (from aiohttp->datasets) (5.0.1)\n",
      "Requirement already satisfied: attrs>=17.3.0 in /usr/local/lib/python3.10/dist-packages (from aiohttp->datasets) (25.1.0)\n",
      "Requirement already satisfied: frozenlist>=1.1.1 in /usr/local/lib/python3.10/dist-packages (from aiohttp->datasets) (1.5.0)\n",
      "Requirement already satisfied: multidict<7.0,>=4.5 in /usr/local/lib/python3.10/dist-packages (from aiohttp->datasets) (6.1.0)\n",
      "Requirement already satisfied: propcache>=0.2.0 in /usr/local/lib/python3.10/dist-packages (from aiohttp->datasets) (0.2.1)\n",
      "Requirement already satisfied: yarl<2.0,>=1.17.0 in /usr/local/lib/python3.10/dist-packages (from aiohttp->datasets) (1.18.3)\n",
      "Requirement already satisfied: typing-extensions>=3.7.4.3 in /usr/local/lib/python3.10/dist-packages (from huggingface-hub>=0.23.0->datasets) (4.12.2)\n",
      "Requirement already satisfied: mkl_fft in /usr/local/lib/python3.10/dist-packages (from numpy>=1.17->datasets) (1.3.8)\n",
      "Requirement already satisfied: mkl_random in /usr/local/lib/python3.10/dist-packages (from numpy>=1.17->datasets) (1.2.4)\n",
      "Requirement already satisfied: mkl_umath in /usr/local/lib/python3.10/dist-packages (from numpy>=1.17->datasets) (0.1.1)\n",
      "Requirement already satisfied: mkl in /usr/local/lib/python3.10/dist-packages (from numpy>=1.17->datasets) (2025.0.1)\n",
      "Requirement already satisfied: tbb4py in /usr/local/lib/python3.10/dist-packages (from numpy>=1.17->datasets) (2022.0.0)\n",
      "Requirement already satisfied: mkl-service in /usr/local/lib/python3.10/dist-packages (from numpy>=1.17->datasets) (2.4.1)\n",
      "Requirement already satisfied: charset-normalizer<4,>=2 in /usr/local/lib/python3.10/dist-packages (from requests>=2.32.2->datasets) (3.4.1)\n",
      "Requirement already satisfied: idna<4,>=2.5 in /usr/local/lib/python3.10/dist-packages (from requests>=2.32.2->datasets) (3.10)\n",
      "Requirement already satisfied: urllib3<3,>=1.21.1 in /usr/local/lib/python3.10/dist-packages (from requests>=2.32.2->datasets) (2.3.0)\n",
      "Requirement already satisfied: certifi>=2017.4.17 in /usr/local/lib/python3.10/dist-packages (from requests>=2.32.2->datasets) (2025.1.31)\n",
      "Requirement already satisfied: python-dateutil>=2.8.2 in /usr/local/lib/python3.10/dist-packages (from pandas->datasets) (2.9.0.post0)\n",
      "Requirement already satisfied: pytz>=2020.1 in /usr/local/lib/python3.10/dist-packages (from pandas->datasets) (2025.1)\n",
      "Requirement already satisfied: tzdata>=2022.7 in /usr/local/lib/python3.10/dist-packages (from pandas->datasets) (2025.1)\n",
      "Requirement already satisfied: six>=1.5 in /usr/local/lib/python3.10/dist-packages (from python-dateutil>=2.8.2->pandas->datasets) (1.17.0)\n",
      "Requirement already satisfied: intel-openmp>=2024 in /usr/local/lib/python3.10/dist-packages (from mkl->numpy>=1.17->datasets) (2024.2.0)\n",
      "Requirement already satisfied: tbb==2022.* in /usr/local/lib/python3.10/dist-packages (from mkl->numpy>=1.17->datasets) (2022.0.0)\n",
      "Requirement already satisfied: tcmlib==1.* in /usr/local/lib/python3.10/dist-packages (from tbb==2022.*->mkl->numpy>=1.17->datasets) (1.2.0)\n",
      "Requirement already satisfied: intel-cmplr-lib-rt in /usr/local/lib/python3.10/dist-packages (from mkl_umath->numpy>=1.17->datasets) (2024.2.0)\n",
      "Requirement already satisfied: intel-cmplr-lib-ur==2024.2.0 in /usr/local/lib/python3.10/dist-packages (from intel-openmp>=2024->mkl->numpy>=1.17->datasets) (2024.2.0)\n"
     ]
    }
   ],
   "source": [
    "!pip install datasets"
   ]
  },
  {
   "cell_type": "code",
   "execution_count": 2,
   "metadata": {
    "execution": {
     "iopub.execute_input": "2025-02-20T08:38:14.617769Z",
     "iopub.status.busy": "2025-02-20T08:38:14.617452Z",
     "iopub.status.idle": "2025-02-20T08:38:24.032555Z",
     "shell.execute_reply": "2025-02-20T08:38:24.031878Z",
     "shell.execute_reply.started": "2025-02-20T08:38:14.617738Z"
    },
    "executionInfo": {
     "elapsed": 21078,
     "status": "ok",
     "timestamp": 1739881825653,
     "user": {
      "displayName": "Yusuf Mohamed",
      "userId": "11201528805945830281"
     },
     "user_tz": -120
    },
    "id": "G9XrNlURteHU",
    "trusted": true
   },
   "outputs": [],
   "source": [
    "import torch\n",
    "from torch.utils.data import Dataset\n",
    "from datasets import load_dataset\n",
    "from transformers import AutoTokenizer\n",
    "from nltk.tokenize import word_tokenize\n",
    "\n",
    "class IMDBDataset(Dataset):\n",
    "    def __init__(self, split: str = \"train\"):\n",
    "        super(IMDBDataset, self).__init__()\n",
    "        self.dataset = load_dataset(\"imdb\", split=split)\n",
    "        self.reviews = self.dataset['text']\n",
    "        self.classes = self.dataset['label']\n",
    "        self.tokenizer = AutoTokenizer.from_pretrained(\"bert-base-uncased\")  # Load tokenizer once\n",
    "\n",
    "    def __len__(self):\n",
    "        return len(self.dataset)\n",
    "\n",
    "    def __getitem__(self, idx: int):\n",
    "        tokens = self.tokenizer(self.reviews[idx], padding=\"max_length\", truncation=True, max_length=512, return_tensors=\"pt\")\n",
    "\n",
    "        return {\n",
    "            'review': tokens[\"input_ids\"].squeeze(0),  # Remove batch dim (1,512) → (512)\n",
    "            'attention_mask': tokens[\"attention_mask\"].squeeze(0),\n",
    "            'label': self.classes[idx]\n",
    "        }\n"
   ]
  },
  {
   "cell_type": "code",
   "execution_count": 3,
   "metadata": {
    "colab": {
     "base_uri": "https://localhost:8080/"
    },
    "execution": {
     "iopub.execute_input": "2025-02-20T08:38:24.034239Z",
     "iopub.status.busy": "2025-02-20T08:38:24.033822Z",
     "iopub.status.idle": "2025-02-20T08:38:27.372184Z",
     "shell.execute_reply": "2025-02-20T08:38:27.371155Z",
     "shell.execute_reply.started": "2025-02-20T08:38:24.034206Z"
    },
    "executionInfo": {
     "elapsed": 3788,
     "status": "ok",
     "timestamp": 1739881829438,
     "user": {
      "displayName": "Yusuf Mohamed",
      "userId": "11201528805945830281"
     },
     "user_tz": -120
    },
    "id": "Ps6XguEit6H7",
    "outputId": "24143844-5ba2-4181-f74b-55f466f3e42c",
    "trusted": true
   },
   "outputs": [
    {
     "name": "stdout",
     "output_type": "stream",
     "text": [
      "Requirement already satisfied: nltk in /usr/local/lib/python3.10/dist-packages (3.2.4)\n",
      "Requirement already satisfied: six in /usr/local/lib/python3.10/dist-packages (from nltk) (1.17.0)\n"
     ]
    }
   ],
   "source": [
    "!pip install nltk"
   ]
  },
  {
   "cell_type": "code",
   "execution_count": 4,
   "metadata": {
    "execution": {
     "iopub.execute_input": "2025-02-20T08:38:27.373994Z",
     "iopub.status.busy": "2025-02-20T08:38:27.373700Z",
     "iopub.status.idle": "2025-02-20T08:38:27.379684Z",
     "shell.execute_reply": "2025-02-20T08:38:27.378916Z",
     "shell.execute_reply.started": "2025-02-20T08:38:27.373971Z"
    },
    "trusted": true
   },
   "outputs": [],
   "source": [
    "import torch\n",
    "\n",
    "def save_checkpoint(model, optimizer, scheduler, epoch, filename):\n",
    "    checkpoint = {\n",
    "        \"model_state_dict\": model.state_dict(),\n",
    "        \"optimizer_state_dict\": optimizer.state_dict(),\n",
    "        \"epoch\": epoch,\n",
    "    }\n",
    "    \n",
    "    if isinstance(scheduler, torch.optim.lr_scheduler.LambdaLR):\n",
    "        checkpoint[\"scheduler_params\"] = {\n",
    "            \"d_model\": scheduler.d_model,\n",
    "            \"warmup_steps\": scheduler.warmup_steps\n",
    "        }\n",
    "\n",
    "    torch.save(checkpoint, filename)\n",
    "\n",
    "    \n",
    "def load_checkpoint(filename, model, optimizer, scheduler=None):\n",
    "    checkpoint = torch.load(filename)\n",
    "    model.load_state_dict(checkpoint[\"model_state_dict\"])\n",
    "    optimizer.load_state_dict(checkpoint[\"optimizer_state_dict\"])\n",
    "    \n",
    "    if scheduler and \"scheduler_params\" in checkpoint:\n",
    "        scheduler = TransformerScheduler(optimizer, **checkpoint[\"scheduler_params\"])\n",
    "    \n",
    "    return checkpoint.get(\"epoch\", 0), scheduler\n"
   ]
  },
  {
   "cell_type": "code",
   "execution_count": 5,
   "metadata": {
    "execution": {
     "iopub.execute_input": "2025-02-20T08:38:27.380920Z",
     "iopub.status.busy": "2025-02-20T08:38:27.380646Z",
     "iopub.status.idle": "2025-02-20T08:38:27.396209Z",
     "shell.execute_reply": "2025-02-20T08:38:27.395613Z",
     "shell.execute_reply.started": "2025-02-20T08:38:27.380891Z"
    },
    "trusted": true
   },
   "outputs": [],
   "source": [
    "import matplotlib.pyplot as plt\n",
    "\n",
    "def plot_metrics(val_losses, val_accuracies):\n",
    "    # Plot Training and Validation Loss\n",
    "    plt.figure(figsize=(12, 5))\n",
    "    \n",
    "    plt.subplot(1, 2, 1)  # Create subplot for loss\n",
    "    plt.plot(val_losses, label=\"Validation Loss\")\n",
    "    plt.xlabel('Epoch')\n",
    "    plt.ylabel('Loss')\n",
    "    plt.legend()\n",
    "    plt.title('Loss Progress')\n",
    "    \n",
    "    # Plot Training and Validation Accuracy\n",
    "    plt.subplot(1, 2, 2)  # Create subplot for accuracy\n",
    "    plt.plot(val_accuracies, label=\"Validation Accuracy\")\n",
    "    plt.xlabel('Epoch')\n",
    "    plt.ylabel('Accuracy')\n",
    "    plt.legend()\n",
    "    plt.title('Accuracy Progress')\n",
    "    \n",
    "    # Show the plots\n",
    "    plt.tight_layout()\n",
    "    plt.show()\n"
   ]
  },
  {
   "cell_type": "code",
   "execution_count": 6,
   "metadata": {
    "execution": {
     "iopub.execute_input": "2025-02-20T08:38:27.397211Z",
     "iopub.status.busy": "2025-02-20T08:38:27.396973Z",
     "iopub.status.idle": "2025-02-20T08:38:27.467441Z",
     "shell.execute_reply": "2025-02-20T08:38:27.466724Z",
     "shell.execute_reply.started": "2025-02-20T08:38:27.397182Z"
    },
    "executionInfo": {
     "elapsed": 6,
     "status": "ok",
     "timestamp": 1739881829438,
     "user": {
      "displayName": "Yusuf Mohamed",
      "userId": "11201528805945830281"
     },
     "user_tz": -120
    },
    "id": "HS6wKai_1pCC",
    "trusted": true
   },
   "outputs": [],
   "source": [
    "import torch\n",
    "import torch.nn as nn\n",
    "import torch.optim as optim\n",
    "from torch.utils.data import DataLoader\n",
    "from tqdm import tqdm\n",
    "from tqdm import tqdm\n",
    "\n",
    "class TransformerScheduler(torch.optim.lr_scheduler.LambdaLR):\n",
    "    def __init__(self, optimizer, d_model, warmup_steps=4000):\n",
    "        self.d_model = d_model\n",
    "        self.warmup_steps = warmup_steps\n",
    "\n",
    "        # Define lr_lambda as a function first\n",
    "        def lr_lambda(step):\n",
    "            step = max(1, step)\n",
    "            return (d_model ** -0.5) * min(step ** -0.5, step * (warmup_steps ** -1.5))\n",
    "\n",
    "        # Now call the parent constructor with the properly defined function\n",
    "        super().__init__(optimizer, lr_lambda)\n",
    "\n",
    "\n",
    "def compute_accuracy(preds, labels):\n",
    "    # Get predicted class (index of the max logit)\n",
    "    preds = torch.argmax(preds, dim=1)  \n",
    "    \n",
    "    # Compare with true labels and calculate accuracy\n",
    "    correct = (preds == labels).sum().item()\n",
    "    total = labels.size(0)\n",
    "\n",
    "    return correct / total\n",
    "\n",
    "def validate(\n",
    "    model: torch.nn.Module,\n",
    "    validloader: DataLoader,\n",
    "    criterion: torch.nn.Module,\n",
    "    device: str = \"cuda\" if torch.cuda.is_available() else \"cpu\"\n",
    ") -> tuple:\n",
    "    model.to(device)\n",
    "    model.eval()\n",
    "\n",
    "    total_loss = 0.0\n",
    "    correct_predictions = 0\n",
    "    total_predictions = 0\n",
    "\n",
    "    with torch.no_grad():\n",
    "        loop = tqdm(validloader, desc=\"Validating\", leave=True)\n",
    "\n",
    "        for batch in loop:\n",
    "            # Fetch inputs and targets from the batch\n",
    "            review, label = batch[\"review\"].to(device), batch[\"label\"].to(device)\n",
    "\n",
    "            # Forward pass through the model\n",
    "            pred = model(review)\n",
    "\n",
    "            # Compute the loss\n",
    "            loss = criterion(pred, label)\n",
    "            total_loss += loss.item()\n",
    "\n",
    "            # Calculate accuracy\n",
    "            _, predicted = torch.max(pred, dim=1)\n",
    "            correct_predictions += (predicted == label).sum().item()\n",
    "            total_predictions += label.size(0)\n",
    "\n",
    "            loop.set_postfix(loss=loss.item())\n",
    "\n",
    "    avg_loss = total_loss / len(validloader)\n",
    "    accuracy = correct_predictions / total_predictions\n",
    "\n",
    "    return avg_loss, accuracy\n",
    "\n",
    "def train(\n",
    "    model: nn.Module,\n",
    "    criterion: nn.Module,\n",
    "    optimizer: optim.Optimizer,\n",
    "    scheduler: optim.lr_scheduler._LRScheduler,\n",
    "    trainloader: DataLoader,\n",
    "    validloader: DataLoader,\n",
    "    epochs: int,\n",
    "    device: str = \"cuda\" if torch.cuda.is_available() else \"cpu\"\n",
    ") -> None:\n",
    "    model.to(device)\n",
    "    model.train()\n",
    "\n",
    "    total_losses = []\n",
    "    total_accs = []\n",
    "    best_accuracy = 0.0\n",
    "\n",
    "    for epoch in range(epochs):\n",
    "        loop = tqdm(trainloader, desc=f\"Epoch {epoch+1}/{epochs}\", leave=True)\n",
    "        total_loss = 0.0\n",
    "\n",
    "        for batch in loop:\n",
    "            # Fetch inputs and targets from the batch\n",
    "            review, label = batch[\"review\"].to(device), batch[\"label\"].to(device)\n",
    "\n",
    "            optimizer.zero_grad()\n",
    "\n",
    "            # Forward pass through the model\n",
    "            pred = model(review)\n",
    "\n",
    "            # Compute the loss\n",
    "            loss = criterion(pred, label)  # Compare with label\n",
    "            loss.backward()\n",
    "\n",
    "            optimizer.step()\n",
    "\n",
    "            total_loss += loss.item()\n",
    "            loop.set_postfix(loss=loss.item())\n",
    "\n",
    "        avg_train_loss = total_loss / len(trainloader)\n",
    "        avg_val_loss, val_accuracy = validate(model, validloader, criterion, device)\n",
    "        total_losses.append(avg_val_loss)\n",
    "        total_accs.append(val_accuracy)\n",
    "        print(f\"Epoch {epoch+1}: Train Loss = {avg_train_loss:.4f}, Val Loss = {avg_val_loss:.4f}, Val Accuracy = {val_accuracy:.4f}\")\n",
    "\n",
    "        if val_accuracy > best_accuracy:\n",
    "            save_checkpoint(model, optimizer, scheduler, epoch, filename=f\"checkpoint_{epoch}.pth\")\n",
    "            best_accuracy = val_accuracy\n",
    "\n",
    "    plot_metrics(total_losses, total_accs)\n"
   ]
  },
  {
   "cell_type": "code",
   "execution_count": 7,
   "metadata": {
    "execution": {
     "iopub.execute_input": "2025-02-20T08:38:27.468340Z",
     "iopub.status.busy": "2025-02-20T08:38:27.468132Z",
     "iopub.status.idle": "2025-02-20T08:38:27.482612Z",
     "shell.execute_reply": "2025-02-20T08:38:27.481823Z",
     "shell.execute_reply.started": "2025-02-20T08:38:27.468321Z"
    },
    "executionInfo": {
     "elapsed": 5,
     "status": "ok",
     "timestamp": 1739881829438,
     "user": {
      "displayName": "Yusuf Mohamed",
      "userId": "11201528805945830281"
     },
     "user_tz": -120
    },
    "id": "ks10YFEb6Pyk",
    "trusted": true
   },
   "outputs": [],
   "source": [
    "import torch.nn as nn\n",
    "import torch.nn.functional as F\n",
    "import math\n",
    "\n",
    "import torch\n",
    "import torch.nn as nn\n",
    "import torch.nn.functional as F\n",
    "import math\n",
    "\n",
    "# Positional Encoding (to add order information to token embeddings)\n",
    "class PositionalEncoding(nn.Module):\n",
    "    def __init__(self, d_model, max_len=512):\n",
    "        super(PositionalEncoding, self).__init__()\n",
    "        pe = torch.zeros(max_len, d_model)\n",
    "        position = torch.arange(0, max_len, dtype=torch.float).unsqueeze(1)\n",
    "        div_term = torch.exp(torch.arange(0, d_model, 2).float() * (-math.log(10000.0) / d_model))\n",
    "        pe[:, 0::2] = torch.sin(position * div_term)\n",
    "        pe[:, 1::2] = torch.cos(position * div_term)\n",
    "        pe = pe.unsqueeze(0)\n",
    "        self.register_buffer('pe', pe)\n",
    "\n",
    "    def forward(self, x):\n",
    "        return x + self.pe[:, :x.size(1)]  # Add positional encoding to input embeddings\n",
    "\n",
    "\n",
    "# Multi-Head Self Attention Mechanism\n",
    "class MultiHeadSelfAttention(nn.Module):\n",
    "    def __init__(self, d_model, num_heads):\n",
    "        super(MultiHeadSelfAttention, self).__init__()\n",
    "        assert d_model % num_heads == 0, \"d_model must be divisible by num_heads\"\n",
    "        self.num_heads = num_heads\n",
    "        self.head_dim = d_model // num_heads\n",
    "\n",
    "        self.qkv_proj = nn.Linear(d_model, d_model * 3)\n",
    "        self.out_proj = nn.Linear(d_model, d_model)\n",
    "        self.scale = math.sqrt(self.head_dim)\n",
    "\n",
    "    def forward(self, x, mask=None):\n",
    "        B, T, C = x.shape  # Batch, Time (seq_len), Channels (d_model)\n",
    "        qkv = self.qkv_proj(x).chunk(3, dim=-1)  # Split into Q, K, V\n",
    "        q, k, v = [t.view(B, T, self.num_heads, self.head_dim).transpose(1, 2) for t in qkv]\n",
    "\n",
    "        attn_scores = (q @ k.transpose(-2, -1)) / self.scale  # Scaled dot-product attention\n",
    "        attn_probs = F.softmax(attn_scores, dim=-1)\n",
    "        attn_output = (attn_probs @ v).transpose(1, 2).contiguous().view(B, T, C)\n",
    "\n",
    "        return self.out_proj(attn_output)\n",
    "\n",
    "\n",
    "# Feed Forward Network (MLP inside Transformer Block)\n",
    "class FeedForward(nn.Module):\n",
    "    def __init__(self, d_model, d_ff):\n",
    "        super(FeedForward, self).__init__()\n",
    "        self.fc1 = nn.Linear(d_model, d_ff)\n",
    "        self.fc2 = nn.Linear(d_ff, d_model)\n",
    "\n",
    "    def forward(self, x):\n",
    "        return self.fc2(F.gelu(self.fc1(x)))\n",
    "\n",
    "\n",
    "# Transformer Encoder Block (Self-Attention + FFN)\n",
    "class TransformerEncoderLayer(nn.Module):\n",
    "    def __init__(self, d_model, num_heads, d_ff, dropout=0.1):\n",
    "        super(TransformerEncoderLayer, self).__init__()\n",
    "        self.self_attn = MultiHeadSelfAttention(d_model, num_heads)\n",
    "        self.ffn = FeedForward(d_model, d_ff)\n",
    "        self.norm1 = nn.LayerNorm(d_model)\n",
    "        self.norm2 = nn.LayerNorm(d_model)\n",
    "        self.dropout = nn.Dropout(dropout)\n",
    "\n",
    "    def forward(self, x, mask=None):\n",
    "        x = x + self.dropout(self.self_attn(self.norm1(x), mask))\n",
    "        x = x + self.dropout(self.ffn(self.norm2(x)))\n",
    "        return x\n",
    "\n",
    "\n",
    "# Full Transformer Encoder Model for Sentiment Analysis\n",
    "class TransformerEncoder(nn.Module):\n",
    "    def __init__(self, vocab_size, d_model=768, num_heads=12, num_layers=6, d_ff=3072, max_len=512, num_classes=2):\n",
    "        super(TransformerEncoder, self).__init__()\n",
    "        self.token_embedding = nn.Embedding(vocab_size, d_model)\n",
    "        self.pos_encoding = PositionalEncoding(d_model, max_len)\n",
    "        self.encoder_layers = nn.ModuleList([TransformerEncoderLayer(d_model, num_heads, d_ff) for _ in range(num_layers)])\n",
    "        self.norm = nn.LayerNorm(d_model)\n",
    "        self.fc = nn.Linear(d_model, num_classes)  # Classification head\n",
    "\n",
    "    def forward(self, x, mask=None):\n",
    "        x = self.token_embedding(x)\n",
    "        x = self.pos_encoding(x)\n",
    "        for layer in self.encoder_layers:\n",
    "            x = layer(x, mask)\n",
    "        x = self.norm(x)  # Final layer norm\n",
    "        x = x.mean(dim=1)  # Average pooling over tokens\n",
    "        return self.fc(x)  # Logits for classification\n"
   ]
  },
  {
   "cell_type": "code",
   "execution_count": 8,
   "metadata": {
    "execution": {
     "iopub.execute_input": "2025-02-20T08:38:27.484883Z",
     "iopub.status.busy": "2025-02-20T08:38:27.484652Z",
     "iopub.status.idle": "2025-02-20T08:38:28.410896Z",
     "shell.execute_reply": "2025-02-20T08:38:28.409897Z",
     "shell.execute_reply.started": "2025-02-20T08:38:27.484864Z"
    },
    "executionInfo": {
     "elapsed": 1218,
     "status": "ok",
     "timestamp": 1739881830651,
     "user": {
      "displayName": "Yusuf Mohamed",
      "userId": "11201528805945830281"
     },
     "user_tz": -120
    },
    "id": "IGTLo4zr6U1V",
    "trusted": true
   },
   "outputs": [],
   "source": [
    "vocab_size = 30522  # Standard BERT tokenizer vocab size\n",
    "model = TransformerEncoder(vocab_size=vocab_size, d_model=768, num_heads=12, num_layers=6, d_ff=3072, num_classes=2).to(\"cuda\")"
   ]
  },
  {
   "cell_type": "code",
   "execution_count": 9,
   "metadata": {
    "colab": {
     "base_uri": "https://localhost:8080/"
    },
    "execution": {
     "iopub.execute_input": "2025-02-20T08:38:28.412298Z",
     "iopub.status.busy": "2025-02-20T08:38:28.412018Z",
     "iopub.status.idle": "2025-02-20T08:38:38.428483Z",
     "shell.execute_reply": "2025-02-20T08:38:38.427773Z",
     "shell.execute_reply.started": "2025-02-20T08:38:28.412276Z"
    },
    "executionInfo": {
     "elapsed": 18923,
     "status": "ok",
     "timestamp": 1739881849569,
     "user": {
      "displayName": "Yusuf Mohamed",
      "userId": "11201528805945830281"
     },
     "user_tz": -120
    },
    "id": "r21LZLPL7Ftq",
    "outputId": "02b254fc-6163-4dfc-fac1-9a87e02b2a41",
    "trusted": true
   },
   "outputs": [
    {
     "data": {
      "application/vnd.jupyter.widget-view+json": {
       "model_id": "642c313f09004e0e9e5ba131d93748af",
       "version_major": 2,
       "version_minor": 0
      },
      "text/plain": [
       "README.md:   0%|          | 0.00/7.81k [00:00<?, ?B/s]"
      ]
     },
     "metadata": {},
     "output_type": "display_data"
    },
    {
     "data": {
      "application/vnd.jupyter.widget-view+json": {
       "model_id": "0495152552184b7fb8c8cefac13b1ca0",
       "version_major": 2,
       "version_minor": 0
      },
      "text/plain": [
       "train-00000-of-00001.parquet:   0%|          | 0.00/21.0M [00:00<?, ?B/s]"
      ]
     },
     "metadata": {},
     "output_type": "display_data"
    },
    {
     "data": {
      "application/vnd.jupyter.widget-view+json": {
       "model_id": "4f1424c2ed9e440781a29c0c6bb55ae8",
       "version_major": 2,
       "version_minor": 0
      },
      "text/plain": [
       "test-00000-of-00001.parquet:   0%|          | 0.00/20.5M [00:00<?, ?B/s]"
      ]
     },
     "metadata": {},
     "output_type": "display_data"
    },
    {
     "data": {
      "application/vnd.jupyter.widget-view+json": {
       "model_id": "22e5161ecc604642a2b19bf3e7da6f9c",
       "version_major": 2,
       "version_minor": 0
      },
      "text/plain": [
       "unsupervised-00000-of-00001.parquet:   0%|          | 0.00/42.0M [00:00<?, ?B/s]"
      ]
     },
     "metadata": {},
     "output_type": "display_data"
    },
    {
     "data": {
      "application/vnd.jupyter.widget-view+json": {
       "model_id": "ed75cc65f7704f44887dfb1df6edd787",
       "version_major": 2,
       "version_minor": 0
      },
      "text/plain": [
       "Generating train split:   0%|          | 0/25000 [00:00<?, ? examples/s]"
      ]
     },
     "metadata": {},
     "output_type": "display_data"
    },
    {
     "data": {
      "application/vnd.jupyter.widget-view+json": {
       "model_id": "58876fd177984e11bf5f24d521ca8ba9",
       "version_major": 2,
       "version_minor": 0
      },
      "text/plain": [
       "Generating test split:   0%|          | 0/25000 [00:00<?, ? examples/s]"
      ]
     },
     "metadata": {},
     "output_type": "display_data"
    },
    {
     "data": {
      "application/vnd.jupyter.widget-view+json": {
       "model_id": "c3e97a7f9bb34d7883051ead39867ab0",
       "version_major": 2,
       "version_minor": 0
      },
      "text/plain": [
       "Generating unsupervised split:   0%|          | 0/50000 [00:00<?, ? examples/s]"
      ]
     },
     "metadata": {},
     "output_type": "display_data"
    },
    {
     "data": {
      "application/vnd.jupyter.widget-view+json": {
       "model_id": "69047fcb68b84a7399b0f2edbd18cc29",
       "version_major": 2,
       "version_minor": 0
      },
      "text/plain": [
       "tokenizer_config.json:   0%|          | 0.00/48.0 [00:00<?, ?B/s]"
      ]
     },
     "metadata": {},
     "output_type": "display_data"
    },
    {
     "data": {
      "application/vnd.jupyter.widget-view+json": {
       "model_id": "51272a27e5274936b159e6e807b3ea94",
       "version_major": 2,
       "version_minor": 0
      },
      "text/plain": [
       "config.json:   0%|          | 0.00/570 [00:00<?, ?B/s]"
      ]
     },
     "metadata": {},
     "output_type": "display_data"
    },
    {
     "data": {
      "application/vnd.jupyter.widget-view+json": {
       "model_id": "3ab0e006e8934045b7047e8595b3212f",
       "version_major": 2,
       "version_minor": 0
      },
      "text/plain": [
       "vocab.txt:   0%|          | 0.00/232k [00:00<?, ?B/s]"
      ]
     },
     "metadata": {},
     "output_type": "display_data"
    },
    {
     "data": {
      "application/vnd.jupyter.widget-view+json": {
       "model_id": "5fce9e80786d424c84d63c44b35d1bc2",
       "version_major": 2,
       "version_minor": 0
      },
      "text/plain": [
       "tokenizer.json:   0%|          | 0.00/466k [00:00<?, ?B/s]"
      ]
     },
     "metadata": {},
     "output_type": "display_data"
    }
   ],
   "source": [
    "# Some Hyperparameters\n",
    "EPOCHS = 5\n",
    "LR = 1e-4\n",
    "BATCH_SIZE = 32\n",
    "\n",
    "trainset = IMDBDataset(\"train\")\n",
    "validset = IMDBDataset(\"test\")\n",
    "\n",
    "from torch.utils.data import DataLoader\n",
    "trainloader = DataLoader(trainset, batch_size=BATCH_SIZE, shuffle=True)\n",
    "validloader = DataLoader(validset, batch_size=BATCH_SIZE, shuffle=True)"
   ]
  },
  {
   "cell_type": "code",
   "execution_count": 10,
   "metadata": {
    "colab": {
     "base_uri": "https://localhost:8080/"
    },
    "execution": {
     "iopub.execute_input": "2025-02-20T08:38:38.429413Z",
     "iopub.status.busy": "2025-02-20T08:38:38.429179Z",
     "iopub.status.idle": "2025-02-20T08:38:38.433704Z",
     "shell.execute_reply": "2025-02-20T08:38:38.432845Z",
     "shell.execute_reply.started": "2025-02-20T08:38:38.429374Z"
    },
    "id": "EXRhj2Kx6iXO",
    "outputId": "60987dd4-235f-4317-c1fd-feddf9daf6f9",
    "trusted": true
   },
   "outputs": [],
   "source": [
    "criterion = nn.CrossEntropyLoss()\n",
    "optimizer = optim.Adam(model.parameters(), lr=1e-4)"
   ]
  },
  {
   "cell_type": "code",
   "execution_count": 11,
   "metadata": {
    "execution": {
     "iopub.execute_input": "2025-02-20T08:38:38.434640Z",
     "iopub.status.busy": "2025-02-20T08:38:38.434417Z",
     "iopub.status.idle": "2025-02-20T09:53:02.694896Z",
     "shell.execute_reply": "2025-02-20T09:53:02.694104Z",
     "shell.execute_reply.started": "2025-02-20T08:38:38.434620Z"
    },
    "id": "mZ5H8hsx71JD",
    "trusted": true
   },
   "outputs": [
    {
     "name": "stderr",
     "output_type": "stream",
     "text": [
      "Epoch 1/5: 100%|██████████| 782/782 [10:50<00:00,  1.20it/s, loss=0.764]\n",
      "Validating: 100%|██████████| 782/782 [04:04<00:00,  3.20it/s, loss=0.816]\n"
     ]
    },
    {
     "name": "stdout",
     "output_type": "stream",
     "text": [
      "Epoch 1: Train Loss = 0.5873, Val Loss = 0.4744, Val Accuracy = 0.7713\n"
     ]
    },
    {
     "name": "stderr",
     "output_type": "stream",
     "text": [
      "Epoch 2/5: 100%|██████████| 782/782 [10:45<00:00,  1.21it/s, loss=0.292]\n",
      "Epoch 3/5: 100%|██████████| 782/782 [10:46<00:00,  1.21it/s, loss=0.489]]\n",
      "Validating: 100%|██████████| 782/782 [04:04<00:00,  3.20it/s, loss=0.554]\n"
     ]
    },
    {
     "name": "stdout",
     "output_type": "stream",
     "text": [
      "Epoch 3: Train Loss = 0.3651, Val Loss = 0.3726, Val Accuracy = 0.8329\n"
     ]
    },
    {
     "name": "stderr",
     "output_type": "stream",
     "text": [
      "Epoch 4/5: 100%|██████████| 782/782 [10:46<00:00,  1.21it/s, loss=0.323] \n",
      "Validating: 100%|██████████| 782/782 [04:04<00:00,  3.20it/s, loss=0.741]\n"
     ]
    },
    {
     "name": "stdout",
     "output_type": "stream",
     "text": [
      "Epoch 4: Train Loss = 0.3395, Val Loss = 0.3647, Val Accuracy = 0.8379\n"
     ]
    },
    {
     "name": "stderr",
     "output_type": "stream",
     "text": [
      "Epoch 5/5: 100%|██████████| 782/782 [10:46<00:00,  1.21it/s, loss=0.365] \n",
      "Validating: 100%|██████████| 782/782 [04:04<00:00,  3.20it/s, loss=0.239]\n"
     ]
    },
    {
     "name": "stdout",
     "output_type": "stream",
     "text": [
      "Epoch 5: Train Loss = 0.2977, Val Loss = 0.3499, Val Accuracy = 0.8434\n"
     ]
    },
    {
     "data": {
      "image/png": "[encoded data removed]",
      "text/plain": [
       "<Figure size 1200x500 with 2 Axes>"
      ]
     },
     "metadata": {},
     "output_type": "display_data"
    }
   ],
   "source": [
    "train(model, criterion, optimizer, TransformerScheduler, trainloader, validloader, EPOCHS)"
   ]
  },
  {
   "cell_type": "code",
   "execution_count": 12,
   "metadata": {
    "execution": {
     "iopub.execute_input": "2025-02-20T09:53:02.696169Z",
     "iopub.status.busy": "2025-02-20T09:53:02.695836Z",
     "iopub.status.idle": "2025-02-20T09:53:02.700766Z",
     "shell.execute_reply": "2025-02-20T09:53:02.699915Z",
     "shell.execute_reply.started": "2025-02-20T09:53:02.696136Z"
    },
    "trusted": true
   },
   "outputs": [],
   "source": [
    "def predict(model, tokenizer, review, device=\"cuda\" if torch.cuda.is_available() else \"cpu\"):\n",
    "    model.eval()  # Set model to evaluation mode\n",
    "    model.to(device)\n",
    "\n",
    "    # Tokenize input text\n",
    "    tokens = tokenizer(review, padding=\"max_length\", truncation=True, max_length=512, return_tensors=\"pt\")\n",
    "    input_ids = tokens[\"input_ids\"].to(device)\n",
    "    attention_mask = tokens[\"attention_mask\"].to(device)\n",
    "\n",
    "    # Forward pass\n",
    "    with torch.no_grad():\n",
    "        logits = model(input_ids)\n",
    "\n",
    "    # Get prediction\n",
    "    predicted_class = torch.argmax(logits, dim=1).item()\n",
    "    \n",
    "    # Convert to human-readable label\n",
    "    sentiment = \"Positive\" if predicted_class == 1 else \"Negative\"\n",
    "    \n",
    "    print(f\"Review Sentiment: {sentiment}\")\n"
   ]
  },
  {
   "cell_type": "code",
   "execution_count": 15,
   "metadata": {
    "execution": {
     "iopub.execute_input": "2025-02-20T10:35:45.635613Z",
     "iopub.status.busy": "2025-02-20T10:35:45.635246Z",
     "iopub.status.idle": "2025-02-20T10:35:45.794974Z",
     "shell.execute_reply": "2025-02-20T10:35:45.794086Z",
     "shell.execute_reply.started": "2025-02-20T10:35:45.635582Z"
    },
    "trusted": true
   },
   "outputs": [
    {
     "name": "stdout",
     "output_type": "stream",
     "text": [
      "Review Sentiment: Negative\n"
     ]
    }
   ],
   "source": [
    "tokenizer = AutoTokenizer.from_pretrained(\"bert-base-uncased\")\n",
    "predict(model, tokenizer, \"This movie is very bad I like so much\")"
   ]
  }
 ],
 "metadata": {
  "colab": {
   "authorship_tag": "ABX9TyMe0hTswN/7gFra3tTZiA7v",
   "provenance": []
  },
  "kaggle": {
   "accelerator": "gpu",
   "dataSources": [],
   "dockerImageVersionId": 30887,
   "isGpuEnabled": true,
   "isInternetEnabled": true,
   "language": "python",
   "sourceType": "notebook"
  },
  "kernelspec": {
   "display_name": "Python 3",
   "language": "python",
   "name": "python3"
  },
  "language_info": {
   "codemirror_mode": {
    "name": "ipython",
    "version": 3
   },
   "file_extension": ".py",
   "mimetype": "text/x-python",
   "name": "python",
   "nbconvert_exporter": "python",
   "pygments_lexer": "ipython3",
   "version": "3.10.12"
  }
 },
 "nbformat": 4,
 "nbformat_minor": 4
}
